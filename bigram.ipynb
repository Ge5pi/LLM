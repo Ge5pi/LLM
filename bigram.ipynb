{
 "cells": [
  {
   "metadata": {
    "ExecuteTime": {
     "end_time": "2025-05-10T06:43:27.666822Z",
     "start_time": "2025-05-10T06:43:27.617773Z"
    }
   },
   "cell_type": "code",
   "source": [
    "with open('wizard_of_oz.txt', 'r', encoding='utf-8') as f:\n",
    "    text = f.read()\n",
    "\n",
    "print(len(text))"
   ],
   "id": "b4519ccdb32aa59a",
   "outputs": [
    {
     "name": "stdout",
     "output_type": "stream",
     "text": [
      "226618\n"
     ]
    }
   ],
   "execution_count": 1
  },
  {
   "metadata": {
    "ExecuteTime": {
     "end_time": "2025-05-10T07:23:12.043008Z",
     "start_time": "2025-05-10T07:23:12.034265Z"
    }
   },
   "cell_type": "code",
   "source": [
    "chars = sorted(set(text))\n",
    "vocab_size = len(chars)"
   ],
   "id": "49d43b99dccac3f2",
   "outputs": [],
   "execution_count": 11
  },
  {
   "metadata": {
    "ExecuteTime": {
     "end_time": "2025-05-10T07:23:13.863974Z",
     "start_time": "2025-05-10T07:23:13.855958Z"
    }
   },
   "cell_type": "code",
   "source": "chars",
   "id": "3b6e89eaa7dcded7",
   "outputs": [
    {
     "data": {
      "text/plain": [
       "['\\n',\n",
       " ' ',\n",
       " '!',\n",
       " '\"',\n",
       " '&',\n",
       " \"'\",\n",
       " '(',\n",
       " ')',\n",
       " ',',\n",
       " '-',\n",
       " '.',\n",
       " '0',\n",
       " '1',\n",
       " '2',\n",
       " '3',\n",
       " '4',\n",
       " '5',\n",
       " '6',\n",
       " '7',\n",
       " '8',\n",
       " '9',\n",
       " ':',\n",
       " ';',\n",
       " '?',\n",
       " 'A',\n",
       " 'B',\n",
       " 'C',\n",
       " 'D',\n",
       " 'E',\n",
       " 'F',\n",
       " 'G',\n",
       " 'H',\n",
       " 'I',\n",
       " 'J',\n",
       " 'K',\n",
       " 'L',\n",
       " 'M',\n",
       " 'N',\n",
       " 'O',\n",
       " 'P',\n",
       " 'Q',\n",
       " 'R',\n",
       " 'S',\n",
       " 'T',\n",
       " 'U',\n",
       " 'V',\n",
       " 'W',\n",
       " 'X',\n",
       " 'Y',\n",
       " 'Z',\n",
       " '[',\n",
       " ']',\n",
       " '_',\n",
       " 'a',\n",
       " 'b',\n",
       " 'c',\n",
       " 'd',\n",
       " 'e',\n",
       " 'f',\n",
       " 'g',\n",
       " 'h',\n",
       " 'i',\n",
       " 'j',\n",
       " 'k',\n",
       " 'l',\n",
       " 'm',\n",
       " 'n',\n",
       " 'o',\n",
       " 'p',\n",
       " 'q',\n",
       " 'r',\n",
       " 's',\n",
       " 't',\n",
       " 'u',\n",
       " 'v',\n",
       " 'w',\n",
       " 'x',\n",
       " 'y',\n",
       " 'z',\n",
       " '\\ufeff']"
      ]
     },
     "execution_count": 12,
     "metadata": {},
     "output_type": "execute_result"
    }
   ],
   "execution_count": 12
  },
  {
   "metadata": {
    "ExecuteTime": {
     "end_time": "2025-05-10T06:43:28.662336Z",
     "start_time": "2025-05-10T06:43:28.655160Z"
    }
   },
   "cell_type": "code",
   "source": [
    "string_to_int = {ch:i for i,ch in enumerate(chars)}\n",
    "int_to_string = {i:ch for ch,i in enumerate(chars)}\n",
    "encode = lambda s: [string_to_int[c] for c in s]\n",
    "decode = lambda l: [int_to_string[s] for s in l]"
   ],
   "id": "6da830a19ebc201d",
   "outputs": [],
   "execution_count": 4
  },
  {
   "metadata": {
    "ExecuteTime": {
     "end_time": "2025-05-10T06:43:43.620223Z",
     "start_time": "2025-05-10T06:43:28.676735Z"
    }
   },
   "cell_type": "code",
   "source": [
    "import torch\n",
    "data = torch.tensor(encode(text), dtype=torch.long)\n",
    "print(data.size())\n",
    "print(data[:100])"
   ],
   "id": "dc15dc3a0956f7ac",
   "outputs": [
    {
     "name": "stdout",
     "output_type": "stream",
     "text": [
      "torch.Size([226618])\n",
      "tensor([79,  0, 26, 31, 24, 39, 43, 28, 41,  1, 12, 10,  0,  0, 43, 31, 28,  1,\n",
      "        28, 24, 41, 43, 31, 40, 44, 24, 34, 28,  0,  0,  0, 43, 60, 57,  1, 72,\n",
      "        70, 53, 61, 66,  1, 58, 70, 67, 65,  1,  5, 29, 70, 61, 71, 55, 67,  1,\n",
      "        75, 53, 71,  1, 74, 57, 70, 77,  1, 64, 53, 72, 57, 10,  1, 32, 72,  1,\n",
      "        71, 60, 67, 73, 64, 56,  1, 60, 53, 74, 57,  1, 53, 70, 70, 61, 74, 57,\n",
      "        56,  1, 53, 72,  1, 31, 73, 59, 71, 67])\n"
     ]
    }
   ],
   "execution_count": 5
  },
  {
   "metadata": {
    "ExecuteTime": {
     "end_time": "2025-05-10T06:43:43.695348Z",
     "start_time": "2025-05-10T06:43:43.677427Z"
    }
   },
   "cell_type": "code",
   "source": [
    "n = int(0.8*len(data))\n",
    "train_data = data[:n]\n",
    "val_data = data[n:]\n",
    "\n",
    "block_size=8\n",
    "\n",
    "x = train_data[:block_size]\n",
    "y = train_data[1:block_size+1]\n",
    "\n",
    "for i in range(block_size):\n",
    "    context = x[:i+1]\n",
    "    target = y[i]\n",
    "\n",
    "    print(f\"when context is {context}, target is {target}\")"
   ],
   "id": "cb05a4d88188fd20",
   "outputs": [
    {
     "name": "stdout",
     "output_type": "stream",
     "text": [
      "when context is tensor([79]), target is 0\n",
      "when context is tensor([79,  0]), target is 26\n",
      "when context is tensor([79,  0, 26]), target is 31\n",
      "when context is tensor([79,  0, 26, 31]), target is 24\n",
      "when context is tensor([79,  0, 26, 31, 24]), target is 39\n",
      "when context is tensor([79,  0, 26, 31, 24, 39]), target is 43\n",
      "when context is tensor([79,  0, 26, 31, 24, 39, 43]), target is 28\n",
      "when context is tensor([79,  0, 26, 31, 24, 39, 43, 28]), target is 41\n"
     ]
    }
   ],
   "execution_count": 6
  },
  {
   "metadata": {
    "ExecuteTime": {
     "end_time": "2025-05-10T06:43:43.877605Z",
     "start_time": "2025-05-10T06:43:43.822170Z"
    }
   },
   "cell_type": "code",
   "source": [
    "device = 'cuda' if torch.cuda.is_available() else 'cpu'\n",
    "print(device)"
   ],
   "id": "12135f95ebe72cd8",
   "outputs": [
    {
     "name": "stdout",
     "output_type": "stream",
     "text": [
      "cuda\n"
     ]
    }
   ],
   "execution_count": 7
  },
  {
   "metadata": {
    "ExecuteTime": {
     "end_time": "2025-05-10T06:43:43.982638Z",
     "start_time": "2025-05-10T06:43:43.975025Z"
    }
   },
   "cell_type": "code",
   "source": "batch_size = 4",
   "id": "263b26fa0f68ac85",
   "outputs": [],
   "execution_count": 8
  },
  {
   "metadata": {
    "ExecuteTime": {
     "end_time": "2025-05-10T06:56:12.182037Z",
     "start_time": "2025-05-10T06:56:04.587724Z"
    }
   },
   "cell_type": "code",
   "source": [
    "def get_batch(split):\n",
    "    data = train_data if split=='train' else val_data\n",
    "    ix = torch.randint(len(data) - block_size + 1, (batch_size, ))\n",
    "    print(ix)\n",
    "    x = torch.stack([data[i:i+block_size] for i in ix])\n",
    "    y = torch.stack([data[i+1:i+block_size+1] for i in ix])\n",
    "\n",
    "    x, y = x.to(device), y.to(device)\n",
    "    return x, y\n",
    "\n",
    "x, y = get_batch('train')\n",
    "print(\"inputs:\")\n",
    "print(x)\n",
    "print(\"targets:\")\n",
    "print(y)"
   ],
   "id": "d93d779e2e58fa9e",
   "outputs": [
    {
     "name": "stdout",
     "output_type": "stream",
     "text": [
      "tensor([ 53172, 136500, 138151,  71106])\n"
     ]
    },
    {
     "name": "stderr",
     "output_type": "stream",
     "text": [
      "D:\\Users\\Danya\\LLM\\cuda\\Lib\\site-packages\\torch\\cuda\\__init__.py:262: UserWarning: \n",
      "    Found GPU0 GeForce GT 730 which is of cuda capability 3.5.\n",
      "    PyTorch no longer supports this GPU because it is too old.\n",
      "    The minimum cuda capability supported by this library is 3.7.\n",
      "    \n",
      "  warnings.warn(\n"
     ]
    },
    {
     "name": "stdout",
     "output_type": "stream",
     "text": [
      "inputs:\n",
      "tensor([[ 1, 75, 53, 71,  1, 71, 72, 61],\n",
      "        [72, 70, 61, 68,  8,  1, 58, 67],\n",
      "        [64, 57, 58, 72,  1, 61, 66,  1],\n",
      "        [66, 72,  1, 75, 60, 57, 70, 57]], device='cuda:0')\n",
      "targets:\n",
      "tensor([[75, 53, 71,  1, 71, 72, 61, 64],\n",
      "        [70, 61, 68,  8,  1, 58, 67, 70],\n",
      "        [57, 58, 72,  1, 61, 66,  1, 60],\n",
      "        [72,  1, 75, 60, 57, 70, 57,  1]], device='cuda:0')\n"
     ]
    }
   ],
   "execution_count": 10
  },
  {
   "metadata": {},
   "cell_type": "code",
   "outputs": [],
   "execution_count": null,
   "source": [
    "import torch.nn as nn\n",
    "from torch.nn import functional as F\n",
    "class BigramLanguageModel(nn.Module):\n",
    "    def __init__(self, vocab_size):\n",
    "        super().__init__()\n",
    "        self.token_embedding_table = nn.Embedding(vocab_size, vocab_size)\n",
    "\n",
    "    def forward(self, index, targets):\n",
    "        logits = self.token_embedding_table(index)\n",
    "\n",
    "        return logits"
   ],
   "id": "c04e9282fbdaac70"
  }
 ],
 "metadata": {
  "kernelspec": {
   "display_name": "Python 3",
   "language": "python",
   "name": "python3"
  },
  "language_info": {
   "codemirror_mode": {
    "name": "ipython",
    "version": 2
   },
   "file_extension": ".py",
   "mimetype": "text/x-python",
   "name": "python",
   "nbconvert_exporter": "python",
   "pygments_lexer": "ipython2",
   "version": "2.7.6"
  }
 },
 "nbformat": 4,
 "nbformat_minor": 5
}
